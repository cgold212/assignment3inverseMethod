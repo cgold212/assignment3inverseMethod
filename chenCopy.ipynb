{
  "cells": [
    {
      "cell_type": "markdown",
      "metadata": {
        "id": "view-in-github",
        "colab_type": "text"
      },
      "source": [
        "<a href=\"https://colab.research.google.com/github/cgold212/assignment3inverseMethod/blob/main/chenCopy.ipynb\" target=\"_parent\"><img src=\"https://colab.research.google.com/assets/colab-badge.svg\" alt=\"Open In Colab\"/></a>"
      ]
    },
    {
      "cell_type": "code",
      "execution_count": null,
      "metadata": {
        "id": "9igFl3eWgxJs"
      },
      "outputs": [],
      "source": [
        "# imports\n",
        "import torch\n",
        "import torch.nn as nn\n",
        "from torchvision import datasets, transforms\n",
        "from torch.utils.data import DataLoader, Dataset\n",
        "import torchvision.transforms as T\n",
        "import os\n",
        "from scipy.io import loadmat\n",
        "import matplotlib.pyplot as plt\n",
        "import numpy as np\n",
        "from torchvision.utils import make_grid\n",
        "import shutil\n",
        "import random\n",
        "\n",
        "#try save\n",
        "device = torch.device('cuda' if torch.cuda.is_available() else 'cpu')"
      ]
    },
    {
      "cell_type": "code",
      "execution_count": null,
      "metadata": {
        "colab": {
          "base_uri": "https://localhost:8080/",
          "height": 321,
          "referenced_widgets": [
            "65c21223a85a4f22a53d72da3ed4a8d7",
            "b1de3225408440e1b1e6a4362a445f89",
            "112b7188a659492da1a90cc316d4d99f",
            "27c42f7d41794f56a300d37aaf592f86",
            "8e8d6a062ccb4aef94bdf083d04d1d6f",
            "ee4d99df337a4a55aa4e87baf2e87fff",
            "f159b34253e7466ca6320362b11187e2",
            "3f612199a6d545ccb698971c5b2306f1",
            "0434c74e92254e9b918096da71b868f2",
            "56332041b23f4bd1a8f99abb64cdd800",
            "91728a011d9a471eb64dc4bd5cd80a95",
            "9e2550737b2644f0b183baf37624d0f4",
            "b1ce39e8bbf24c6697dac42eb5613927",
            "e5cd8d4b646a44febafa818e3174d18f",
            "6ad5201dad2e44b6a40f4b25ec691b73",
            "605fba83d545403fb30bf3733e2fc0ad",
            "ca7f2e8b370e4ebbb319e84551c1b823",
            "be3a742a97b5490d9f11fc253b63bc9b",
            "224829a84c0d491eaf5960dd31b5954d",
            "72d142e8000a461bb96108855d32bc57",
            "665548fa643f4dfd8b1522414cc77965",
            "5f4a9c60ceb14e829a41ecbe8b2acfd9",
            "ef38ba2534964449bb3a00afdffcfdd3",
            "78a92c0ede6f43838c76d3f1a2f4e158",
            "e95d6813e3ec49e2a944f2c6984b0534",
            "8a60408dffa14920a24540ca77aa0c89",
            "dd31174dbcdf48b0943009e611ea2191",
            "9fa366bb0b7947de86cfd82d85b8c613",
            "997b6f4a3154423eaaac101ef38b0982",
            "001c79437e64471caa4cded763b7ae55",
            "383c5c8704924717b2e61e7ea8b35975",
            "7b2a293290954f4ab04c4abc6f5e401b",
            "07605a4d5a584229bac9e66a9ad554d8",
            "7b99316e6a22459999631caf9d477cdd",
            "29fa23cb9c0e4b32b0453e9a29bc3062",
            "90c828bf74b24d21a6d0e46508334cc2",
            "aa08af39b47c43b7a9a5441efcb274ad",
            "1d9c6fe5e05540ed9a8f6155e32a16f7",
            "2d150fdc92b042e8b16aaaf1ed3bffaa",
            "9fcffa09df97485d85a468b391377d4a",
            "cab6369817dd465e9a883429b631260c",
            "8d0173bc1a284217a484253dc36b1c68",
            "8c113cf8b4924181a14f357d6e3b9918",
            "1b5e1148367c492185965684964ffd1b"
          ]
        },
        "id": "nsdtngu_hcz7",
        "outputId": "fb7b38db-1b0c-43ef-c4c3-e50fcacc61f6"
      },
      "outputs": [
        {
          "output_type": "stream",
          "name": "stdout",
          "text": [
            "Downloading https://ai.stanford.edu/~jkrause/cars/car_devkit.tgz to Stanford_cars_dataset/stanford_cars/car_devkit.tgz\n"
          ]
        },
        {
          "output_type": "display_data",
          "data": {
            "text/plain": [
              "  0%|          | 0/330960 [00:00<?, ?it/s]"
            ],
            "application/vnd.jupyter.widget-view+json": {
              "version_major": 2,
              "version_minor": 0,
              "model_id": "65c21223a85a4f22a53d72da3ed4a8d7"
            }
          },
          "metadata": {}
        },
        {
          "output_type": "stream",
          "name": "stdout",
          "text": [
            "Extracting Stanford_cars_dataset/stanford_cars/car_devkit.tgz to Stanford_cars_dataset/stanford_cars\n",
            "Downloading https://ai.stanford.edu/~jkrause/car196/cars_train.tgz to Stanford_cars_dataset/stanford_cars/cars_train.tgz\n"
          ]
        },
        {
          "output_type": "display_data",
          "data": {
            "text/plain": [
              "  0%|          | 0/979269282 [00:00<?, ?it/s]"
            ],
            "application/vnd.jupyter.widget-view+json": {
              "version_major": 2,
              "version_minor": 0,
              "model_id": "9e2550737b2644f0b183baf37624d0f4"
            }
          },
          "metadata": {}
        },
        {
          "output_type": "stream",
          "name": "stdout",
          "text": [
            "Extracting Stanford_cars_dataset/stanford_cars/cars_train.tgz to Stanford_cars_dataset/stanford_cars\n",
            "Using downloaded and verified file: Stanford_cars_dataset/stanford_cars/car_devkit.tgz\n",
            "Extracting Stanford_cars_dataset/stanford_cars/car_devkit.tgz to Stanford_cars_dataset/stanford_cars\n",
            "Downloading https://ai.stanford.edu/~jkrause/car196/cars_test.tgz to Stanford_cars_dataset/stanford_cars/cars_test.tgz\n"
          ]
        },
        {
          "output_type": "display_data",
          "data": {
            "text/plain": [
              "  0%|          | 0/977350468 [00:00<?, ?it/s]"
            ],
            "application/vnd.jupyter.widget-view+json": {
              "version_major": 2,
              "version_minor": 0,
              "model_id": "ef38ba2534964449bb3a00afdffcfdd3"
            }
          },
          "metadata": {}
        },
        {
          "output_type": "stream",
          "name": "stdout",
          "text": [
            "Extracting Stanford_cars_dataset/stanford_cars/cars_test.tgz to Stanford_cars_dataset/stanford_cars\n",
            "Downloading https://ai.stanford.edu/~jkrause/car196/cars_test_annos_withlabels.mat to Stanford_cars_dataset/stanford_cars/cars_test_annos_withlabels.mat\n"
          ]
        },
        {
          "output_type": "display_data",
          "data": {
            "text/plain": [
              "  0%|          | 0/185758 [00:00<?, ?it/s]"
            ],
            "application/vnd.jupyter.widget-view+json": {
              "version_major": 2,
              "version_minor": 0,
              "model_id": "7b99316e6a22459999631caf9d477cdd"
            }
          },
          "metadata": {}
        }
      ],
      "source": [
        "trfm = transforms.Compose([transforms.Resize((200,200)),\n",
        "                           transforms.RandomHorizontalFlip(0.5),\n",
        "                           transforms.ToTensor()]) \n",
        "\n",
        "data  = datasets.StanfordCars(root='Stanford_cars_dataset' , transform= None,  download = True)\n",
        "test_data  = datasets.StanfordCars(root='Stanford_cars_dataset' , split= 'test', transform= None,  download = True)"
      ]
    },
    {
      "cell_type": "code",
      "execution_count": null,
      "metadata": {
        "id": "DG8M1FpnaUOt"
      },
      "outputs": [],
      "source": [
        "# load annotations and labels\n",
        "mat_train= loadmat('./Stanford_cars_dataset/stanford_cars/devkit/cars_train_annos.mat')\n",
        "mat_test= loadmat('./Stanford_cars_dataset/stanford_cars/cars_test_annos_withlabels.mat')\n",
        "meta = loadmat('./Stanford_cars_dataset/stanford_cars/devkit/cars_meta.mat')\n",
        "\n",
        "# get classes\n",
        "labels = list()\n",
        "for l in meta['class_names'][0]:\n",
        "    labels.append(l[0].replace('/','').replace(' ','_'))\n",
        "\n",
        "# get train labels\n",
        "train = list()\n",
        "for example in mat_train['annotations'][0]:\n",
        "    label  = labels[example[-2][0][0]-1]\n",
        "    image  = example[-1][0]\n",
        "    class_car= example[4][0][0]\n",
        "    train.append((image, class_car, label))\n",
        "\n",
        "# get test labels\n",
        "test = list()\n",
        "for example in mat_test['annotations'][0]:\n",
        "    label  = labels[example[-2][0][0]-1]\n",
        "    image  = example[-1][0]\n",
        "    class_car= example[4][0][0]\n",
        "    test.append((image, class_car, label))\n",
        "\n",
        "# create dirs for new dataset\n",
        "os.mkdir('./ordered_stanford_dataset')\n",
        "os.mkdir('./ordered_stanford_dataset/train')\n",
        "os.mkdir('./ordered_stanford_dataset/valid')\n",
        "os.mkdir('./ordered_stanford_dataset/test')\n",
        "\n",
        "# get all filenames for train and test\n",
        "imgs_train = os.listdir('./Stanford_cars_dataset/stanford_cars/cars_train')\n",
        "imgs_test = os.listdir('./Stanford_cars_dataset/stanford_cars/cars_test')\n",
        "\n",
        "# create dir for each label in train and test\n",
        "for i in labels:\n",
        "    os.mkdir('./ordered_stanford_dataset/train/'+i)\n",
        "    os.mkdir('./ordered_stanford_dataset/valid/'+i)\n",
        "    os.mkdir('./ordered_stanford_dataset/test/'+i)\n",
        "\n"
      ]
    },
    {
      "cell_type": "code",
      "execution_count": null,
      "metadata": {
        "id": "se4dc4qcWXUE"
      },
      "outputs": [],
      "source": [
        "# move files from train to specific folder in the new dataset \n",
        "for image in imgs_train:\n",
        "    for annos in train:\n",
        "        img_name = annos[0]\n",
        "        img_label = annos[2]\n",
        "        if image == img_name:\n",
        "            src = './Stanford_cars_dataset/stanford_cars/cars_train/'+image\n",
        "            des = './ordered_stanford_dataset/train/'+img_label+'/'+image\n",
        "            shutil.move(src,des)\n",
        "            break\n",
        "# move files from test to specific folder in the new dataset \n",
        "for image in imgs_test:\n",
        "    for annos in test:\n",
        "        img_name = annos[0]\n",
        "        img_label = annos[2]\n",
        "        if image == img_name:\n",
        "            src = './Stanford_cars_dataset/stanford_cars/cars_test/'+image\n",
        "            des = './ordered_stanford_dataset/test/'+img_label+'/'+image\n",
        "            shutil.move(src,des)\n",
        "            break"
      ]
    },
    {
      "cell_type": "code",
      "execution_count": null,
      "metadata": {
        "id": "8TPY4LPCYNGN"
      },
      "outputs": [],
      "source": [
        "# get valid dataset from train\n",
        "val_part = 0.1\n",
        "for l in labels:\n",
        "    files = os.listdir('./ordered_stanford_dataset/train/'+l)\n",
        "    num_files = len(files)\n",
        "    num_val_files = int(np.floor(num_files * val_part))\n",
        "    if num_val_files > 0:\n",
        "        val_idxs = random.sample(range(0, num_files),num_val_files)   # pick random images for validation\n",
        "        for idx in val_idxs:\n",
        "            src = './ordered_stanford_dataset/train/' + l + '/' + files[idx]\n",
        "            des = './ordered_stanford_dataset/valid/' + l + '/' + files[idx]\n",
        "            shutil.move(src, des)\n",
        "# get valid dataset from test\n",
        "for l in labels:\n",
        "    files = os.listdir('./ordered_stanford_dataset/test/'+l)\n",
        "    num_files = len(files)\n",
        "    num_val_files = int(np.floor(num_files * val_part))\n",
        "    if num_val_files > 0:\n",
        "        val_idxs = random.sample(range(0, num_files),num_val_files)   # pick random images for validation\n",
        "        for idx in val_idxs:\n",
        "            src = './ordered_stanford_dataset/test/' + l + '/' + files[idx]\n",
        "            des = './ordered_stanford_dataset/valid/' + l + '/' + files[idx]\n",
        "            shutil.move(src, des)"
      ]
    },
    {
      "cell_type": "code",
      "execution_count": null,
      "metadata": {
        "id": "0_jIFabSLpsz"
      },
      "outputs": [],
      "source": [
        "# get ordered datasets\n",
        "# stats = ((0, 0, 0), (1, 1, 1))\n",
        "trfm = transforms.Compose([\n",
        "                          transforms.Resize((256, 256)),\n",
        "                          T.RandomCrop(size=(100, 100)),\n",
        "                          transforms.RandomHorizontalFlip(0.5),\n",
        "                          #  transforms.ColorJitter(),\n",
        "                          transforms.ToTensor(),\n",
        "                          # transforms.Normalize(*stats, inplace = True)\n",
        "                          ]) \n",
        "trfm_test = transforms.Compose([\n",
        "                          transforms.Resize((256, 256)),\n",
        "                          # T.RandomCrop(size=(128, 128)),\n",
        "                          transforms.RandomHorizontalFlip(0.5),\n",
        "                          #  transforms.ColorJitter(),\n",
        "                          transforms.ToTensor(),\n",
        "                          # transforms.Normalize(*stats, inplace = True)\n",
        "                          ])\n",
        "\n",
        "train_data = datasets.ImageFolder('./ordered_stanford_dataset/train',transform= trfm)\n",
        "val_data = datasets.ImageFolder('./ordered_stanford_dataset/valid',transform= trfm)\n",
        "test_data = datasets.ImageFolder('./ordered_stanford_dataset/test',transform= trfm)"
      ]
    },
    {
      "cell_type": "code",
      "execution_count": null,
      "metadata": {
        "colab": {
          "base_uri": "https://localhost:8080/"
        },
        "id": "PmDZPqCiPnVC",
        "outputId": "1799b11f-49fc-421c-cf15-23f086944590"
      },
      "outputs": [
        {
          "output_type": "stream",
          "name": "stdout",
          "text": [
            "number of images in train - 7410\n",
            "number of images in validation - 1461\n",
            "number of images in test - 7314\n"
          ]
        }
      ],
      "source": [
        "print('number of images in train - '+str(len(train_data)))\n",
        "print('number of images in validation - '+str(len(val_data)))\n",
        "print('number of images in test - '+str(len(test_data)))"
      ]
    },
    {
      "cell_type": "code",
      "execution_count": null,
      "metadata": {
        "id": "sJgKxMZGOnBL"
      },
      "outputs": [],
      "source": [
        "# get data loaders\n",
        "def get_data_loaders(train_data,val_data,test_data,batch_size):\n",
        "\n",
        "    train_loader = DataLoader(train_data, batch_size=batch_size, \n",
        "                              shuffle=True, num_workers=2)\n",
        "    val_loader = DataLoader(val_data, batch_size=batch_size, \n",
        "                              shuffle=True, num_workers=2)\n",
        "    test_loader = DataLoader(test_data, batch_size=batch_size, \n",
        "                              shuffle=True, num_workers=2)\n",
        "    \n",
        "    return train_loader, val_loader, test_loader"
      ]
    },
    {
      "cell_type": "code",
      "execution_count": null,
      "metadata": {
        "id": "g-sCuZMriK3_"
      },
      "outputs": [],
      "source": [
        "batch_size = 32\n",
        "train_loader, val_loader, test_loader = get_data_loaders(train_data,val_data,test_data,batch_size)"
      ]
    },
    {
      "cell_type": "code",
      "execution_count": null,
      "metadata": {
        "id": "vS67UT2jOyW_"
      },
      "outputs": [],
      "source": [
        "# function to show bach images\n",
        "def show(imgs,num2show):\n",
        "    fig, ax = plt.subplots(figsize=(8, 4))\n",
        "    ax.set_xticks([]); ax.set_yticks([])\n",
        "    ax.imshow(make_grid((imgs.detach()[:num2show]), nrow=8).permute(1, 2, 0))\n",
        "    return None"
      ]
    },
    {
      "cell_type": "code",
      "execution_count": null,
      "metadata": {
        "id": "7pDtSve0O0vo"
      },
      "outputs": [],
      "source": [
        "# batch_train_images, train_labels = next(iter(train_loader))\n",
        "# show(batch_train_images,5)"
      ]
    },
    {
      "cell_type": "code",
      "execution_count": null,
      "metadata": {
        "id": "6f5y4EaaZAl3"
      },
      "outputs": [],
      "source": [
        "# batch_test_images, test_labels = next(iter(test_loader))\n",
        "# show(batch_test_images,5)"
      ]
    },
    {
      "cell_type": "code",
      "execution_count": null,
      "metadata": {
        "id": "FZ4oYq6Tgcje"
      },
      "outputs": [],
      "source": [
        "# batch_val_images, val_labels = next(iter(val_loader))\n",
        "# show(batch_val_images,5)"
      ]
    },
    {
      "cell_type": "code",
      "execution_count": null,
      "metadata": {
        "id": "KATjE4Z9Rs1U"
      },
      "outputs": [],
      "source": [
        "# train_data.classes[53]"
      ]
    },
    {
      "cell_type": "code",
      "execution_count": null,
      "metadata": {
        "id": "WC68azCdqrbK"
      },
      "outputs": [],
      "source": [
        "# len(labels)"
      ]
    },
    {
      "cell_type": "code",
      "execution_count": null,
      "metadata": {
        "id": "h9jBYyyNo1dj"
      },
      "outputs": [],
      "source": [
        "# val_labels"
      ]
    },
    {
      "cell_type": "code",
      "execution_count": null,
      "metadata": {
        "id": "D_LrRZ8j2Frx"
      },
      "outputs": [],
      "source": [
        "# train_loader.batch_size"
      ]
    },
    {
      "cell_type": "code",
      "execution_count": null,
      "metadata": {
        "id": "fQCk-9chxsux"
      },
      "outputs": [],
      "source": [
        "from torchvision.models import resnet50\n"
      ]
    },
    {
      "cell_type": "code",
      "execution_count": null,
      "metadata": {
        "id": "FHfMEPm-yr2c"
      },
      "outputs": [],
      "source": [
        "# train function\n",
        "def train(model, train_loader, val_loader, num_epochs, criterion, optimizer, grad_clip = None, checkpoint_path = None):\n",
        "    train_losses = []\n",
        "    val_losses = []\n",
        "    train_accuracies = []\n",
        "    val_accuracies = []\n",
        "    train_losses_iter = []\n",
        "    n_iters = 0\n",
        "    for epoch in range(num_epochs):\n",
        "        model.train()\n",
        "        train_loss = 0\n",
        "        total_correct = 0\n",
        "        total_instances = 0\n",
        "        for images, labels in train_loader:\n",
        "            n_iters += 1\n",
        "            optimizer.zero_grad()\n",
        "            if torch.cuda.is_available():\n",
        "                images = images.to(device)\n",
        "                labels = labels.to(device)\n",
        "\n",
        "            one_hot = torch.zeros((64, 196))\n",
        "            one_hot[torch.arange(len(labels)), labels] = 1\n",
        "            # print(one_hot[0,:])\n",
        "            one_hot = one_hot.to(device)\n",
        "\n",
        "            outputs = model(images)\n",
        "            outputs = torch.sigmoid(outputs)\n",
        "            # print(one_hot.shape)\n",
        "            # print(outputs.shape)\n",
        "            if outputs.shape[0] == one_hot.shape[0]:\n",
        "              # print(outputs.shape)\n",
        "              loss = criterion(outputs, one_hot)  \n",
        "              loss.backward() \n",
        "\n",
        "            # Gradient clipping\n",
        "            if grad_clip: \n",
        "                nn.utils.clip_grad_value_(model.parameters(), grad_clip)\n",
        "\n",
        "            optimizer.step()\n",
        "            train_loss += loss.item()\n",
        "            train_losses_iter.append(loss.item()/train_loader.batch_size)\n",
        "\n",
        "            # get classifications of the batch\n",
        "            classifications = torch.argmax(outputs, dim=1)\n",
        "            correct_predictions = sum(classifications == labels).item()\n",
        "            total_correct += correct_predictions\n",
        "            total_instances += len(images)\n",
        "            if n_iters % 50 == 0:\n",
        "                print('Iter - %d Train loss - %f'%(n_iters , loss.item()/train_loader.batch_size))\n",
        "\n",
        "        model.eval()\n",
        "        val_loss = 0\n",
        "        correct = 0\n",
        "        total = 0\n",
        "        with torch.no_grad():\n",
        "            for images, labels in val_loader:\n",
        "                if torch.cuda.is_available():\n",
        "                    images = images.cuda()\n",
        "                    labels = labels.cuda()\n",
        "                outputs = model(images)\n",
        "                outputs = torch.sigmoid(outputs)          \n",
        "                one_hot = torch.zeros((64, 196))\n",
        "                one_hot[torch.arange(len(labels)), labels] = 1\n",
        "                # print(one_hot[0,:])\n",
        "                one_hot = one_hot.to(device)    \n",
        "                if outputs.shape[0] == one_hot.shape[0]:\n",
        "                  # print(outputs.shape)\n",
        "                  loss = criterion(outputs, one_hot)  \n",
        "                  val_loss += loss.item()\n",
        "                  _, predicted = torch.max(outputs.data, 1)\n",
        "                  total += labels.size(0)\n",
        "                  correct += (predicted == labels).sum().item()\n",
        "        cur_train_acc = round(total_correct/total_instances, 3)\n",
        "        train_accuracies.append(cur_train_acc)\n",
        "        train_losses.append(train_loss/train_loader.batch_size)\n",
        "        val_losses.append(val_loss/val_loader.batch_size)\n",
        "        val_accuracies.append(correct/total)\n",
        "        if epoch % 10 == 0:\n",
        "            plot_results_iter(train_losses_iter, val_losses, val_accuracies, train_accuracies)\n",
        "        print('Epoch - %d | train acc - %f%% | val acc - %f%%'%(epoch ,100*cur_train_acc ,100*correct/total))\n",
        "        if (checkpoint_path is not None) and epoch > 0 and epoch % 5 == 0:\n",
        "            torch.save(model.state_dict(), checkpoint_path.format(epoch+270))\n",
        "    return train_losses, val_losses, val_accuracies, train_accuracies\n",
        "\n",
        "def plot_results(train_losses, val_losses, val_accuracies):\n",
        "    fig, (ax1, ax2) = plt.subplots(1, 2, figsize=(10, 5))\n",
        "    ax1.plot(train_losses, label='train')\n",
        "    ax1.plot(val_losses, label='val')\n",
        "    ax1.set_xlabel('Epoch')\n",
        "    ax1.set_ylabel('Loss')\n",
        "    ax1.legend()\n",
        "    ax2.plot(np.array(val_accuracies)*100)\n",
        "    ax2.set_xlabel('Epoch')\n",
        "    ax2.set_ylabel('Accuracy')\n",
        "    plt.show()\n",
        "def plot_results_iter(train_losses, val_losses, val_accuracies, train_accuracies):\n",
        "    fig, (ax1, ax2) = plt.subplots(1, 2, figsize=(10, 5))\n",
        "    ax1.plot(train_losses, label='train')\n",
        "    # ax1.plot(val_losses, label='val')\n",
        "    ax1.set_xlabel('Iterations')\n",
        "    ax1.set_ylabel('Loss')\n",
        "    ax1.legend()\n",
        "    ax2.plot(np.array(train_accuracies)*100,label='train')\n",
        "    ax2.plot(np.array(val_accuracies)*100,label='val')\n",
        "    ax2.set_xlabel('Epoch')\n",
        "    ax2.set_ylabel('Accuracy')\n",
        "    ax2.legend()\n",
        "    plt.show()"
      ]
    },
    {
      "cell_type": "code",
      "source": [
        "from google.colab import drive\n",
        "drive.mount('/content/drive')"
      ],
      "metadata": {
        "colab": {
          "base_uri": "https://localhost:8080/"
        },
        "id": "HSSJzuhrRLFn",
        "outputId": "b06ef298-9d15-432d-d7e5-7362ef0e6fbb"
      },
      "execution_count": null,
      "outputs": [
        {
          "output_type": "stream",
          "name": "stdout",
          "text": [
            "Drive already mounted at /content/drive; to attempt to forcibly remount, call drive.mount(\"/content/drive\", force_remount=True).\n"
          ]
        }
      ]
    },
    {
      "cell_type": "code",
      "execution_count": null,
      "metadata": {
        "id": "52JrMvklx2hK",
        "colab": {
          "base_uri": "https://localhost:8080/",
          "height": 1000
        },
        "outputId": "27eb2a14-1e15-4d76-e3dc-fb22acdcf040"
      },
      "outputs": [
        {
          "output_type": "stream",
          "name": "stdout",
          "text": [
            "Iter - 50 Train loss - 0.082228\n",
            "Iter - 100 Train loss - 0.082162\n"
          ]
        },
        {
          "output_type": "display_data",
          "data": {
            "text/plain": [
              "<Figure size 720x360 with 2 Axes>"
            ],
            "image/png": "[encoded data removed]"
          },
          "metadata": {
            "needs_background": "light"
          }
        },
        {
          "output_type": "stream",
          "name": "stdout",
          "text": [
            "Epoch - 0 | train acc - 0.800000% | val acc - 1.491477%\n",
            "Iter - 150 Train loss - 0.081637\n",
            "Iter - 200 Train loss - 0.080917\n",
            "Epoch - 1 | train acc - 3.400000% | val acc - 4.545455%\n",
            "Iter - 250 Train loss - 0.080945\n",
            "Iter - 300 Train loss - 0.080179\n",
            "Epoch - 2 | train acc - 6.500000% | val acc - 7.315341%\n",
            "Iter - 350 Train loss - 0.079165\n",
            "Iter - 400 Train loss - 0.079213\n",
            "Iter - 450 Train loss - 0.078588\n",
            "Epoch - 3 | train acc - 8.800000% | val acc - 9.161932%\n",
            "Iter - 500 Train loss - 0.077557\n",
            "Iter - 550 Train loss - 0.077421\n",
            "Epoch - 4 | train acc - 10.700000% | val acc - 10.795455%\n",
            "Iter - 600 Train loss - 0.076643\n",
            "Iter - 650 Train loss - 0.076973\n",
            "Epoch - 5 | train acc - 12.900000% | val acc - 12.215909%\n",
            "Iter - 700 Train loss - 0.075142\n",
            "Iter - 750 Train loss - 0.076351\n",
            "Iter - 800 Train loss - 0.075426\n",
            "Epoch - 6 | train acc - 14.700000% | val acc - 13.494318%\n",
            "Iter - 850 Train loss - 0.074456\n",
            "Iter - 900 Train loss - 0.075211\n",
            "Epoch - 7 | train acc - 15.900000% | val acc - 13.991477%\n",
            "Iter - 950 Train loss - 0.075863\n",
            "Iter - 1000 Train loss - 0.075375\n",
            "Epoch - 8 | train acc - 18.700000% | val acc - 15.198864%\n",
            "Iter - 1050 Train loss - 0.074794\n",
            "Iter - 1100 Train loss - 0.074755\n",
            "Iter - 1150 Train loss - 0.074172\n",
            "Epoch - 9 | train acc - 19.700000% | val acc - 20.809659%\n",
            "Iter - 1200 Train loss - 0.073935\n",
            "Iter - 1250 Train loss - 0.073685\n"
          ]
        },
        {
          "output_type": "display_data",
          "data": {
            "text/plain": [
              "<Figure size 720x360 with 2 Axes>"
            ],
            "image/png": "[encoded data removed]"
          },
          "metadata": {
            "needs_background": "light"
          }
        },
        {
          "output_type": "stream",
          "name": "stdout",
          "text": [
            "Epoch - 10 | train acc - 20.000000% | val acc - 19.247159%\n",
            "Iter - 1300 Train loss - 0.074109\n",
            "Iter - 1350 Train loss - 0.074437\n",
            "Epoch - 11 | train acc - 22.200000% | val acc - 20.525568%\n",
            "Iter - 1400 Train loss - 0.073988\n",
            "Iter - 1450 Train loss - 0.073366\n",
            "Iter - 1500 Train loss - 0.072917\n",
            "Epoch - 12 | train acc - 22.900000% | val acc - 20.880682%\n",
            "Iter - 1550 Train loss - 0.072812\n",
            "Iter - 1600 Train loss - 0.072391\n",
            "Epoch - 13 | train acc - 23.700000% | val acc - 20.738636%\n",
            "Iter - 1650 Train loss - 0.073074\n",
            "Iter - 1700 Train loss - 0.073452\n",
            "Epoch - 14 | train acc - 25.300000% | val acc - 23.508523%\n",
            "Iter - 1750 Train loss - 0.072277\n",
            "Iter - 1800 Train loss - 0.072614\n",
            "Iter - 1850 Train loss - 0.072829\n",
            "Epoch - 15 | train acc - 26.400000% | val acc - 23.508523%\n",
            "Iter - 1900 Train loss - 0.072554\n",
            "Iter - 1950 Train loss - 0.072990\n",
            "Epoch - 16 | train acc - 26.400000% | val acc - 23.650568%\n",
            "Iter - 2000 Train loss - 0.072444\n",
            "Iter - 2050 Train loss - 0.072340\n",
            "Epoch - 17 | train acc - 28.700000% | val acc - 24.360795%\n",
            "Iter - 2100 Train loss - 0.072296\n",
            "Iter - 2150 Train loss - 0.072857\n",
            "Iter - 2200 Train loss - 0.072536\n",
            "Epoch - 18 | train acc - 29.100000% | val acc - 25.000000%\n",
            "Iter - 2250 Train loss - 0.072421\n",
            "Iter - 2300 Train loss - 0.071888\n",
            "Epoch - 19 | train acc - 30.200000% | val acc - 26.988636%\n",
            "Iter - 2350 Train loss - 0.071626\n",
            "Iter - 2400 Train loss - 0.071859\n"
          ]
        },
        {
          "output_type": "display_data",
          "data": {
            "text/plain": [
              "<Figure size 720x360 with 2 Axes>"
            ],
            "image/png": "[encoded data removed]"
          },
          "metadata": {
            "needs_background": "light"
          }
        },
        {
          "output_type": "stream",
          "name": "stdout",
          "text": [
            "Epoch - 20 | train acc - 30.700000% | val acc - 27.627841%\n",
            "Iter - 2450 Train loss - 0.071208\n",
            "Iter - 2500 Train loss - 0.071242\n",
            "Iter - 2550 Train loss - 0.071596\n",
            "Epoch - 21 | train acc - 31.500000% | val acc - 27.485795%\n",
            "Iter - 2600 Train loss - 0.071069\n",
            "Iter - 2650 Train loss - 0.071949\n",
            "Epoch - 22 | train acc - 32.100000% | val acc - 28.977273%\n",
            "Iter - 2700 Train loss - 0.071659\n",
            "Iter - 2750 Train loss - 0.071331\n",
            "Epoch - 23 | train acc - 33.400000% | val acc - 27.911932%\n",
            "Iter - 2800 Train loss - 0.071209\n",
            "Iter - 2850 Train loss - 0.071007\n",
            "Iter - 2900 Train loss - 0.071233\n",
            "Epoch - 24 | train acc - 34.300000% | val acc - 29.119318%\n",
            "Iter - 2950 Train loss - 0.071992\n",
            "Iter - 3000 Train loss - 0.071500\n",
            "Epoch - 25 | train acc - 35.100000% | val acc - 29.403409%\n",
            "Iter - 3050 Train loss - 0.071854\n",
            "Iter - 3100 Train loss - 0.070500\n",
            "Epoch - 26 | train acc - 35.500000% | val acc - 31.889205%\n",
            "Iter - 3150 Train loss - 0.070615\n",
            "Iter - 3200 Train loss - 0.070566\n",
            "Epoch - 27 | train acc - 36.600000% | val acc - 32.102273%\n",
            "Iter - 3250 Train loss - 0.070720\n",
            "Iter - 3300 Train loss - 0.070590\n",
            "Iter - 3350 Train loss - 0.070474\n",
            "Epoch - 28 | train acc - 37.300000% | val acc - 29.545455%\n",
            "Iter - 3400 Train loss - 0.070778\n",
            "Iter - 3450 Train loss - 0.071591\n",
            "Epoch - 29 | train acc - 36.000000% | val acc - 32.528409%\n",
            "Iter - 3500 Train loss - 0.070853\n",
            "Iter - 3550 Train loss - 0.070616\n"
          ]
        },
        {
          "output_type": "display_data",
          "data": {
            "text/plain": [
              "<Figure size 720x360 with 2 Axes>"
            ],
            "image/png": "[encoded data removed]"
          },
          "metadata": {
            "needs_background": "light"
          }
        },
        {
          "output_type": "stream",
          "name": "stdout",
          "text": [
            "Epoch - 30 | train acc - 38.300000% | val acc - 33.096591%\n",
            "Iter - 3600 Train loss - 0.071320\n",
            "Iter - 3650 Train loss - 0.071507\n",
            "Iter - 3700 Train loss - 0.071164\n",
            "Epoch - 31 | train acc - 38.400000% | val acc - 33.593750%\n",
            "Iter - 3750 Train loss - 0.070562\n",
            "Iter - 3800 Train loss - 0.071228\n",
            "Epoch - 32 | train acc - 38.600000% | val acc - 31.605114%\n",
            "Iter - 3850 Train loss - 0.071536\n",
            "Iter - 3900 Train loss - 0.071641\n",
            "Epoch - 33 | train acc - 39.300000% | val acc - 35.795455%\n",
            "Iter - 3950 Train loss - 0.070987\n",
            "Iter - 4000 Train loss - 0.070807\n",
            "Iter - 4050 Train loss - 0.070922\n",
            "Epoch - 34 | train acc - 40.200000% | val acc - 31.676136%\n",
            "Iter - 4100 Train loss - 0.070370\n",
            "Iter - 4150 Train loss - 0.070252\n",
            "Epoch - 35 | train acc - 40.900000% | val acc - 35.227273%\n",
            "Iter - 4200 Train loss - 0.070460\n",
            "Iter - 4250 Train loss - 0.071142\n",
            "Epoch - 36 | train acc - 41.500000% | val acc - 34.659091%\n",
            "Iter - 4300 Train loss - 0.070258\n",
            "Iter - 4350 Train loss - 0.070755\n",
            "Iter - 4400 Train loss - 0.070601\n",
            "Epoch - 37 | train acc - 42.000000% | val acc - 36.150568%\n",
            "Iter - 4450 Train loss - 0.070882\n",
            "Iter - 4500 Train loss - 0.070809\n",
            "Epoch - 38 | train acc - 42.100000% | val acc - 36.789773%\n",
            "Iter - 4550 Train loss - 0.070029\n",
            "Iter - 4600 Train loss - 0.069842\n",
            "Epoch - 39 | train acc - 43.500000% | val acc - 36.079545%\n",
            "Iter - 4650 Train loss - 0.070270\n",
            "Iter - 4700 Train loss - 0.070646\n",
            "Iter - 4750 Train loss - 0.069963\n"
          ]
        },
        {
          "output_type": "display_data",
          "data": {
            "text/plain": [
              "<Figure size 720x360 with 2 Axes>"
            ],
            "image/png": "[encoded data removed]"
          },
          "metadata": {
            "needs_background": "light"
          }
        },
        {
          "output_type": "stream",
          "name": "stdout",
          "text": [
            "Epoch - 40 | train acc - 42.900000% | val acc - 36.789773%\n",
            "Iter - 4800 Train loss - 0.070681\n",
            "Iter - 4850 Train loss - 0.070206\n",
            "Epoch - 41 | train acc - 43.800000% | val acc - 35.937500%\n",
            "Iter - 4900 Train loss - 0.070599\n",
            "Iter - 4950 Train loss - 0.069891\n",
            "Epoch - 42 | train acc - 43.800000% | val acc - 37.571023%\n",
            "Iter - 5000 Train loss - 0.070692\n",
            "Iter - 5050 Train loss - 0.070222\n",
            "Iter - 5100 Train loss - 0.070470\n",
            "Epoch - 43 | train acc - 45.900000% | val acc - 36.860795%\n",
            "Iter - 5150 Train loss - 0.069786\n",
            "Iter - 5200 Train loss - 0.069989\n",
            "Epoch - 44 | train acc - 45.500000% | val acc - 36.718750%\n",
            "Iter - 5250 Train loss - 0.069531\n",
            "Iter - 5300 Train loss - 0.069857\n",
            "Epoch - 45 | train acc - 45.800000% | val acc - 38.068182%\n",
            "Iter - 5350 Train loss - 0.069485\n",
            "Iter - 5400 Train loss - 0.070237\n",
            "Iter - 5450 Train loss - 0.070012\n",
            "Epoch - 46 | train acc - 47.200000% | val acc - 38.423295%\n",
            "Iter - 5500 Train loss - 0.070037\n",
            "Iter - 5550 Train loss - 0.069885\n",
            "Epoch - 47 | train acc - 46.500000% | val acc - 39.275568%\n",
            "Iter - 5600 Train loss - 0.069580\n",
            "Iter - 5650 Train loss - 0.069468\n",
            "Epoch - 48 | train acc - 46.800000% | val acc - 40.838068%\n",
            "Iter - 5700 Train loss - 0.070612\n",
            "Iter - 5750 Train loss - 0.070577\n",
            "Iter - 5800 Train loss - 0.069862\n",
            "Epoch - 49 | train acc - 48.400000% | val acc - 38.423295%\n",
            "Iter - 5850 Train loss - 0.069673\n",
            "Iter - 5900 Train loss - 0.070095\n"
          ]
        },
        {
          "output_type": "display_data",
          "data": {
            "text/plain": [
              "<Figure size 720x360 with 2 Axes>"
            ],
            "image/png": "[encoded data removed]"
          },
          "metadata": {
            "needs_background": "light"
          }
        },
        {
          "output_type": "stream",
          "name": "stdout",
          "text": [
            "Epoch - 50 | train acc - 48.400000% | val acc - 40.909091%\n",
            "Iter - 5950 Train loss - 0.070058\n",
            "Iter - 6000 Train loss - 0.069654\n",
            "Epoch - 51 | train acc - 47.900000% | val acc - 39.630682%\n",
            "Iter - 6050 Train loss - 0.070117\n",
            "Iter - 6100 Train loss - 0.069824\n",
            "Epoch - 52 | train acc - 49.800000% | val acc - 39.417614%\n",
            "Iter - 6150 Train loss - 0.069709\n",
            "Iter - 6200 Train loss - 0.070199\n",
            "Iter - 6250 Train loss - 0.069960\n",
            "Epoch - 53 | train acc - 49.500000% | val acc - 40.625000%\n",
            "Iter - 6300 Train loss - 0.070484\n",
            "Iter - 6350 Train loss - 0.069945\n",
            "Epoch - 54 | train acc - 50.100000% | val acc - 40.767045%\n",
            "Iter - 6400 Train loss - 0.068903\n",
            "Iter - 6450 Train loss - 0.069893\n",
            "Epoch - 55 | train acc - 50.300000% | val acc - 40.056818%\n",
            "Iter - 6500 Train loss - 0.069433\n",
            "Iter - 6550 Train loss - 0.069469\n",
            "Iter - 6600 Train loss - 0.069255\n",
            "Epoch - 56 | train acc - 50.000000% | val acc - 40.909091%\n",
            "Iter - 6650 Train loss - 0.069896\n",
            "Iter - 6700 Train loss - 0.069252\n"
          ]
        }
      ],
      "source": [
        "# get the model\n",
        "import torchvision\n",
        "# model = resnet50(pretrained=True)\n",
        "model = torchvision.models.efficientnet_b0(pretrained=True)\n",
        "\n",
        "# Add a new linear layer as classifier\n",
        "model.add_module('classifier', nn.Linear(1280, 196))\n",
        "\n",
        "# model.fc = nn.Sequential(nn.Linear(in_features=2048, out_features=500, bias=True),\n",
        "                        #  nn.ReLU(),\n",
        "                        #  nn.Linear(in_features=500, out_features=196, bias=True)) \n",
        "if torch.cuda.is_available():\n",
        "    model = model.to(device)\n",
        "# model.load_state_dict(torch.load('/content/drive/MyDrive/Intro_to_Deep_Learning/checkpoints_resnet50_test2/ckpt-275.pk'))\n",
        "\n",
        "batch_size = 64\n",
        "train_loader, val_loader, test_loader = get_data_loaders(train_data,val_data,test_data,batch_size)\n",
        "\n",
        "\n",
        "num_epochs = 201\n",
        "criterion = torch.nn.CrossEntropyLoss()\n",
        "optimizer = torch.optim.Adam(lr = 0.0001,params=model.parameters(), weight_decay = 1e-4)\n",
        "info = train(model,\n",
        "             train_loader,\n",
        "             val_loader,\n",
        "             num_epochs,\n",
        "             criterion,\n",
        "             optimizer,\n",
        "             grad_clip = 0.5,\n",
        "             checkpoint_path='/content/drive/MyDrive/Intro_to_Deep_Learning/checkpoints_resnet50_test2/ckpt-{}.pk')"
      ]
    },
    {
      "cell_type": "code",
      "execution_count": null,
      "metadata": {
        "id": "5OUsa_1dr3hj"
      },
      "outputs": [],
      "source": [
        "# we can take only part of the dataset \n",
        "\n",
        "# samp = torch.utils.data.Subset(train_data,[0,1,2,3,4])"
      ]
    },
    {
      "cell_type": "code",
      "execution_count": null,
      "metadata": {
        "id": "ab7Oqttxg8Vz"
      },
      "outputs": [],
      "source": [
        "batch_size = 64\n",
        "train_loader, val_loader, test_loader = get_data_loaders(train_data,val_data,test_data,batch_size)"
      ]
    },
    {
      "cell_type": "code",
      "execution_count": null,
      "metadata": {
        "id": "A-XfqiBbzMK4"
      },
      "outputs": [],
      "source": [
        "\n",
        "num_epochs = 100\n",
        "criterion = torch.nn.CrossEntropyLoss()\n",
        "optimizer = torch.optim.Adam(lr = 0.0001,params=model.parameters(), weight_decay = 1e-4)\n",
        "info = train(model, train_loader, val_loader, num_epochs, criterion, optimizer, grad_clip = 0.5)"
      ]
    },
    {
      "cell_type": "markdown",
      "metadata": {
        "id": "YO11_3mVkafk"
      },
      "source": [
        "Try to make the data more diverse with random crops"
      ]
    },
    {
      "cell_type": "code",
      "execution_count": null,
      "metadata": {
        "id": "i8D_LBa0kUGm"
      },
      "outputs": [],
      "source": [
        "num_epochs = 10\n",
        "criterion = torch.nn.CrossEntropyLoss()\n",
        "optimizer = torch.optim.Adam(lr = 0.0001,params=model.parameters(), weight_decay = 1e-4)\n",
        "info2 = train(model, train_loader, val_loader, num_epochs, criterion, optimizer, grad_clip = 0.5)"
      ]
    }
  ],
  "metadata": {
    "accelerator": "GPU",
    "colab": {
      "provenance": [],
      "include_colab_link": true
    },
    "gpuClass": "standard",
    "kernelspec": {
      "display_name": "Python 3",
      "name": "python3"
    },
    "language_info": {
      "name": "python"
    },
    "widgets": {
      "application/vnd.jupyter.widget-state+json": {
        "65c21223a85a4f22a53d72da3ed4a8d7": {
          "model_module": "@jupyter-widgets/controls",
          "model_name": "HBoxModel",
          "model_module_version": "1.5.0",
          "state": {
            "_dom_classes": [],
            "_model_module": "@jupyter-widgets/controls",
            "_model_module_version": "1.5.0",
            "_model_name": "HBoxModel",
            "_view_count": null,
            "_view_module": "@jupyter-widgets/controls",
            "_view_module_version": "1.5.0",
            "_view_name": "HBoxView",
            "box_style": "",
            "children": [
              "IPY_MODEL_b1de3225408440e1b1e6a4362a445f89",
              "IPY_MODEL_112b7188a659492da1a90cc316d4d99f",
              "IPY_MODEL_27c42f7d41794f56a300d37aaf592f86"
            ],
            "layout": "IPY_MODEL_8e8d6a062ccb4aef94bdf083d04d1d6f"
          }
        },
        "b1de3225408440e1b1e6a4362a445f89": {
          "model_module": "@jupyter-widgets/controls",
          "model_name": "HTMLModel",
          "model_module_version": "1.5.0",
          "state": {
            "_dom_classes": [],
            "_model_module": "@jupyter-widgets/controls",
            "_model_module_version": "1.5.0",
            "_model_name": "HTMLModel",
            "_view_count": null,
            "_view_module": "@jupyter-widgets/controls",
            "_view_module_version": "1.5.0",
            "_view_name": "HTMLView",
            "description": "",
            "description_tooltip": null,
            "layout": "IPY_MODEL_ee4d99df337a4a55aa4e87baf2e87fff",
            "placeholder": "​",
            "style": "IPY_MODEL_f159b34253e7466ca6320362b11187e2",
            "value": "100%"
          }
        },
        "112b7188a659492da1a90cc316d4d99f": {
          "model_module": "@jupyter-widgets/controls",
          "model_name": "FloatProgressModel",
          "model_module_version": "1.5.0",
          "state": {
            "_dom_classes": [],
            "_model_module": "@jupyter-widgets/controls",
            "_model_module_version": "1.5.0",
            "_model_name": "FloatProgressModel",
            "_view_count": null,
            "_view_module": "@jupyter-widgets/controls",
            "_view_module_version": "1.5.0",
            "_view_name": "ProgressView",
            "bar_style": "success",
            "description": "",
            "description_tooltip": null,
            "layout": "IPY_MODEL_3f612199a6d545ccb698971c5b2306f1",
            "max": 330960,
            "min": 0,
            "orientation": "horizontal",
            "style": "IPY_MODEL_0434c74e92254e9b918096da71b868f2",
            "value": 330960
          }
        },
        "27c42f7d41794f56a300d37aaf592f86": {
          "model_module": "@jupyter-widgets/controls",
          "model_name": "HTMLModel",
          "model_module_version": "1.5.0",
          "state": {
            "_dom_classes": [],
            "_model_module": "@jupyter-widgets/controls",
            "_model_module_version": "1.5.0",
            "_model_name": "HTMLModel",
            "_view_count": null,
            "_view_module": "@jupyter-widgets/controls",
            "_view_module_version": "1.5.0",
            "_view_name": "HTMLView",
            "description": "",
            "description_tooltip": null,
            "layout": "IPY_MODEL_56332041b23f4bd1a8f99abb64cdd800",
            "placeholder": "​",
            "style": "IPY_MODEL_91728a011d9a471eb64dc4bd5cd80a95",
            "value": " 330960/330960 [00:00&lt;00:00, 886382.68it/s]"
          }
        },
        "8e8d6a062ccb4aef94bdf083d04d1d6f": {
          "model_module": "@jupyter-widgets/base",
          "model_name": "LayoutModel",
          "model_module_version": "1.2.0",
          "state": {
            "_model_module": "@jupyter-widgets/base",
            "_model_module_version": "1.2.0",
            "_model_name": "LayoutModel",
            "_view_count": null,
            "_view_module": "@jupyter-widgets/base",
            "_view_module_version": "1.2.0",
            "_view_name": "LayoutView",
            "align_content": null,
            "align_items": null,
            "align_self": null,
            "border": null,
            "bottom": null,
            "display": null,
            "flex": null,
            "flex_flow": null,
            "grid_area": null,
            "grid_auto_columns": null,
            "grid_auto_flow": null,
            "grid_auto_rows": null,
            "grid_column": null,
            "grid_gap": null,
            "grid_row": null,
            "grid_template_areas": null,
            "grid_template_columns": null,
            "grid_template_rows": null,
            "height": null,
            "justify_content": null,
            "justify_items": null,
            "left": null,
            "margin": null,
            "max_height": null,
            "max_width": null,
            "min_height": null,
            "min_width": null,
            "object_fit": null,
            "object_position": null,
            "order": null,
            "overflow": null,
            "overflow_x": null,
            "overflow_y": null,
            "padding": null,
            "right": null,
            "top": null,
            "visibility": null,
            "width": null
          }
        },
        "ee4d99df337a4a55aa4e87baf2e87fff": {
          "model_module": "@jupyter-widgets/base",
          "model_name": "LayoutModel",
          "model_module_version": "1.2.0",
          "state": {
            "_model_module": "@jupyter-widgets/base",
            "_model_module_version": "1.2.0",
            "_model_name": "LayoutModel",
            "_view_count": null,
            "_view_module": "@jupyter-widgets/base",
            "_view_module_version": "1.2.0",
            "_view_name": "LayoutView",
            "align_content": null,
            "align_items": null,
            "align_self": null,
            "border": null,
            "bottom": null,
            "display": null,
            "flex": null,
            "flex_flow": null,
            "grid_area": null,
            "grid_auto_columns": null,
            "grid_auto_flow": null,
            "grid_auto_rows": null,
            "grid_column": null,
            "grid_gap": null,
            "grid_row": null,
            "grid_template_areas": null,
            "grid_template_columns": null,
            "grid_template_rows": null,
            "height": null,
            "justify_content": null,
            "justify_items": null,
            "left": null,
            "margin": null,
            "max_height": null,
            "max_width": null,
            "min_height": null,
            "min_width": null,
            "object_fit": null,
            "object_position": null,
            "order": null,
            "overflow": null,
            "overflow_x": null,
            "overflow_y": null,
            "padding": null,
            "right": null,
            "top": null,
            "visibility": null,
            "width": null
          }
        },
        "f159b34253e7466ca6320362b11187e2": {
          "model_module": "@jupyter-widgets/controls",
          "model_name": "DescriptionStyleModel",
          "model_module_version": "1.5.0",
          "state": {
            "_model_module": "@jupyter-widgets/controls",
            "_model_module_version": "1.5.0",
            "_model_name": "DescriptionStyleModel",
            "_view_count": null,
            "_view_module": "@jupyter-widgets/base",
            "_view_module_version": "1.2.0",
            "_view_name": "StyleView",
            "description_width": ""
          }
        },
        "3f612199a6d545ccb698971c5b2306f1": {
          "model_module": "@jupyter-widgets/base",
          "model_name": "LayoutModel",
          "model_module_version": "1.2.0",
          "state": {
            "_model_module": "@jupyter-widgets/base",
            "_model_module_version": "1.2.0",
            "_model_name": "LayoutModel",
            "_view_count": null,
            "_view_module": "@jupyter-widgets/base",
            "_view_module_version": "1.2.0",
            "_view_name": "LayoutView",
            "align_content": null,
            "align_items": null,
            "align_self": null,
            "border": null,
            "bottom": null,
            "display": null,
            "flex": null,
            "flex_flow": null,
            "grid_area": null,
            "grid_auto_columns": null,
            "grid_auto_flow": null,
            "grid_auto_rows": null,
            "grid_column": null,
            "grid_gap": null,
            "grid_row": null,
            "grid_template_areas": null,
            "grid_template_columns": null,
            "grid_template_rows": null,
            "height": null,
            "justify_content": null,
            "justify_items": null,
            "left": null,
            "margin": null,
            "max_height": null,
            "max_width": null,
            "min_height": null,
            "min_width": null,
            "object_fit": null,
            "object_position": null,
            "order": null,
            "overflow": null,
            "overflow_x": null,
            "overflow_y": null,
            "padding": null,
            "right": null,
            "top": null,
            "visibility": null,
            "width": null
          }
        },
        "0434c74e92254e9b918096da71b868f2": {
          "model_module": "@jupyter-widgets/controls",
          "model_name": "ProgressStyleModel",
          "model_module_version": "1.5.0",
          "state": {
            "_model_module": "@jupyter-widgets/controls",
            "_model_module_version": "1.5.0",
            "_model_name": "ProgressStyleModel",
            "_view_count": null,
            "_view_module": "@jupyter-widgets/base",
            "_view_module_version": "1.2.0",
            "_view_name": "StyleView",
            "bar_color": null,
            "description_width": ""
          }
        },
        "56332041b23f4bd1a8f99abb64cdd800": {
          "model_module": "@jupyter-widgets/base",
          "model_name": "LayoutModel",
          "model_module_version": "1.2.0",
          "state": {
            "_model_module": "@jupyter-widgets/base",
            "_model_module_version": "1.2.0",
            "_model_name": "LayoutModel",
            "_view_count": null,
            "_view_module": "@jupyter-widgets/base",
            "_view_module_version": "1.2.0",
            "_view_name": "LayoutView",
            "align_content": null,
            "align_items": null,
            "align_self": null,
            "border": null,
            "bottom": null,
            "display": null,
            "flex": null,
            "flex_flow": null,
            "grid_area": null,
            "grid_auto_columns": null,
            "grid_auto_flow": null,
            "grid_auto_rows": null,
            "grid_column": null,
            "grid_gap": null,
            "grid_row": null,
            "grid_template_areas": null,
            "grid_template_columns": null,
            "grid_template_rows": null,
            "height": null,
            "justify_content": null,
            "justify_items": null,
            "left": null,
            "margin": null,
            "max_height": null,
            "max_width": null,
            "min_height": null,
            "min_width": null,
            "object_fit": null,
            "object_position": null,
            "order": null,
            "overflow": null,
            "overflow_x": null,
            "overflow_y": null,
            "padding": null,
            "right": null,
            "top": null,
            "visibility": null,
            "width": null
          }
        },
        "91728a011d9a471eb64dc4bd5cd80a95": {
          "model_module": "@jupyter-widgets/controls",
          "model_name": "DescriptionStyleModel",
          "model_module_version": "1.5.0",
          "state": {
            "_model_module": "@jupyter-widgets/controls",
            "_model_module_version": "1.5.0",
            "_model_name": "DescriptionStyleModel",
            "_view_count": null,
            "_view_module": "@jupyter-widgets/base",
            "_view_module_version": "1.2.0",
            "_view_name": "StyleView",
            "description_width": ""
          }
        },
        "9e2550737b2644f0b183baf37624d0f4": {
          "model_module": "@jupyter-widgets/controls",
          "model_name": "HBoxModel",
          "model_module_version": "1.5.0",
          "state": {
            "_dom_classes": [],
            "_model_module": "@jupyter-widgets/controls",
            "_model_module_version": "1.5.0",
            "_model_name": "HBoxModel",
            "_view_count": null,
            "_view_module": "@jupyter-widgets/controls",
            "_view_module_version": "1.5.0",
            "_view_name": "HBoxView",
            "box_style": "",
            "children": [
              "IPY_MODEL_b1ce39e8bbf24c6697dac42eb5613927",
              "IPY_MODEL_e5cd8d4b646a44febafa818e3174d18f",
              "IPY_MODEL_6ad5201dad2e44b6a40f4b25ec691b73"
            ],
            "layout": "IPY_MODEL_605fba83d545403fb30bf3733e2fc0ad"
          }
        },
        "b1ce39e8bbf24c6697dac42eb5613927": {
          "model_module": "@jupyter-widgets/controls",
          "model_name": "HTMLModel",
          "model_module_version": "1.5.0",
          "state": {
            "_dom_classes": [],
            "_model_module": "@jupyter-widgets/controls",
            "_model_module_version": "1.5.0",
            "_model_name": "HTMLModel",
            "_view_count": null,
            "_view_module": "@jupyter-widgets/controls",
            "_view_module_version": "1.5.0",
            "_view_name": "HTMLView",
            "description": "",
            "description_tooltip": null,
            "layout": "IPY_MODEL_ca7f2e8b370e4ebbb319e84551c1b823",
            "placeholder": "​",
            "style": "IPY_MODEL_be3a742a97b5490d9f11fc253b63bc9b",
            "value": "100%"
          }
        },
        "e5cd8d4b646a44febafa818e3174d18f": {
          "model_module": "@jupyter-widgets/controls",
          "model_name": "FloatProgressModel",
          "model_module_version": "1.5.0",
          "state": {
            "_dom_classes": [],
            "_model_module": "@jupyter-widgets/controls",
            "_model_module_version": "1.5.0",
            "_model_name": "FloatProgressModel",
            "_view_count": null,
            "_view_module": "@jupyter-widgets/controls",
            "_view_module_version": "1.5.0",
            "_view_name": "ProgressView",
            "bar_style": "success",
            "description": "",
            "description_tooltip": null,
            "layout": "IPY_MODEL_224829a84c0d491eaf5960dd31b5954d",
            "max": 979269282,
            "min": 0,
            "orientation": "horizontal",
            "style": "IPY_MODEL_72d142e8000a461bb96108855d32bc57",
            "value": 979269282
          }
        },
        "6ad5201dad2e44b6a40f4b25ec691b73": {
          "model_module": "@jupyter-widgets/controls",
          "model_name": "HTMLModel",
          "model_module_version": "1.5.0",
          "state": {
            "_dom_classes": [],
            "_model_module": "@jupyter-widgets/controls",
            "_model_module_version": "1.5.0",
            "_model_name": "HTMLModel",
            "_view_count": null,
            "_view_module": "@jupyter-widgets/controls",
            "_view_module_version": "1.5.0",
            "_view_name": "HTMLView",
            "description": "",
            "description_tooltip": null,
            "layout": "IPY_MODEL_665548fa643f4dfd8b1522414cc77965",
            "placeholder": "​",
            "style": "IPY_MODEL_5f4a9c60ceb14e829a41ecbe8b2acfd9",
            "value": " 979269282/979269282 [00:12&lt;00:00, 94600987.36it/s]"
          }
        },
        "605fba83d545403fb30bf3733e2fc0ad": {
          "model_module": "@jupyter-widgets/base",
          "model_name": "LayoutModel",
          "model_module_version": "1.2.0",
          "state": {
            "_model_module": "@jupyter-widgets/base",
            "_model_module_version": "1.2.0",
            "_model_name": "LayoutModel",
            "_view_count": null,
            "_view_module": "@jupyter-widgets/base",
            "_view_module_version": "1.2.0",
            "_view_name": "LayoutView",
            "align_content": null,
            "align_items": null,
            "align_self": null,
            "border": null,
            "bottom": null,
            "display": null,
            "flex": null,
            "flex_flow": null,
            "grid_area": null,
            "grid_auto_columns": null,
            "grid_auto_flow": null,
            "grid_auto_rows": null,
            "grid_column": null,
            "grid_gap": null,
            "grid_row": null,
            "grid_template_areas": null,
            "grid_template_columns": null,
            "grid_template_rows": null,
            "height": null,
            "justify_content": null,
            "justify_items": null,
            "left": null,
            "margin": null,
            "max_height": null,
            "max_width": null,
            "min_height": null,
            "min_width": null,
            "object_fit": null,
            "object_position": null,
            "order": null,
            "overflow": null,
            "overflow_x": null,
            "overflow_y": null,
            "padding": null,
            "right": null,
            "top": null,
            "visibility": null,
            "width": null
          }
        },
        "ca7f2e8b370e4ebbb319e84551c1b823": {
          "model_module": "@jupyter-widgets/base",
          "model_name": "LayoutModel",
          "model_module_version": "1.2.0",
          "state": {
            "_model_module": "@jupyter-widgets/base",
            "_model_module_version": "1.2.0",
            "_model_name": "LayoutModel",
            "_view_count": null,
            "_view_module": "@jupyter-widgets/base",
            "_view_module_version": "1.2.0",
            "_view_name": "LayoutView",
            "align_content": null,
            "align_items": null,
            "align_self": null,
            "border": null,
            "bottom": null,
            "display": null,
            "flex": null,
            "flex_flow": null,
            "grid_area": null,
            "grid_auto_columns": null,
            "grid_auto_flow": null,
            "grid_auto_rows": null,
            "grid_column": null,
            "grid_gap": null,
            "grid_row": null,
            "grid_template_areas": null,
            "grid_template_columns": null,
            "grid_template_rows": null,
            "height": null,
            "justify_content": null,
            "justify_items": null,
            "left": null,
            "margin": null,
            "max_height": null,
            "max_width": null,
            "min_height": null,
            "min_width": null,
            "object_fit": null,
            "object_position": null,
            "order": null,
            "overflow": null,
            "overflow_x": null,
            "overflow_y": null,
            "padding": null,
            "right": null,
            "top": null,
            "visibility": null,
            "width": null
          }
        },
        "be3a742a97b5490d9f11fc253b63bc9b": {
          "model_module": "@jupyter-widgets/controls",
          "model_name": "DescriptionStyleModel",
          "model_module_version": "1.5.0",
          "state": {
            "_model_module": "@jupyter-widgets/controls",
            "_model_module_version": "1.5.0",
            "_model_name": "DescriptionStyleModel",
            "_view_count": null,
            "_view_module": "@jupyter-widgets/base",
            "_view_module_version": "1.2.0",
            "_view_name": "StyleView",
            "description_width": ""
          }
        },
        "224829a84c0d491eaf5960dd31b5954d": {
          "model_module": "@jupyter-widgets/base",
          "model_name": "LayoutModel",
          "model_module_version": "1.2.0",
          "state": {
            "_model_module": "@jupyter-widgets/base",
            "_model_module_version": "1.2.0",
            "_model_name": "LayoutModel",
            "_view_count": null,
            "_view_module": "@jupyter-widgets/base",
            "_view_module_version": "1.2.0",
            "_view_name": "LayoutView",
            "align_content": null,
            "align_items": null,
            "align_self": null,
            "border": null,
            "bottom": null,
            "display": null,
            "flex": null,
            "flex_flow": null,
            "grid_area": null,
            "grid_auto_columns": null,
            "grid_auto_flow": null,
            "grid_auto_rows": null,
            "grid_column": null,
            "grid_gap": null,
            "grid_row": null,
            "grid_template_areas": null,
            "grid_template_columns": null,
            "grid_template_rows": null,
            "height": null,
            "justify_content": null,
            "justify_items": null,
            "left": null,
            "margin": null,
            "max_height": null,
            "max_width": null,
            "min_height": null,
            "min_width": null,
            "object_fit": null,
            "object_position": null,
            "order": null,
            "overflow": null,
            "overflow_x": null,
            "overflow_y": null,
            "padding": null,
            "right": null,
            "top": null,
            "visibility": null,
            "width": null
          }
        },
        "72d142e8000a461bb96108855d32bc57": {
          "model_module": "@jupyter-widgets/controls",
          "model_name": "ProgressStyleModel",
          "model_module_version": "1.5.0",
          "state": {
            "_model_module": "@jupyter-widgets/controls",
            "_model_module_version": "1.5.0",
            "_model_name": "ProgressStyleModel",
            "_view_count": null,
            "_view_module": "@jupyter-widgets/base",
            "_view_module_version": "1.2.0",
            "_view_name": "StyleView",
            "bar_color": null,
            "description_width": ""
          }
        },
        "665548fa643f4dfd8b1522414cc77965": {
          "model_module": "@jupyter-widgets/base",
          "model_name": "LayoutModel",
          "model_module_version": "1.2.0",
          "state": {
            "_model_module": "@jupyter-widgets/base",
            "_model_module_version": "1.2.0",
            "_model_name": "LayoutModel",
            "_view_count": null,
            "_view_module": "@jupyter-widgets/base",
            "_view_module_version": "1.2.0",
            "_view_name": "LayoutView",
            "align_content": null,
            "align_items": null,
            "align_self": null,
            "border": null,
            "bottom": null,
            "display": null,
            "flex": null,
            "flex_flow": null,
            "grid_area": null,
            "grid_auto_columns": null,
            "grid_auto_flow": null,
            "grid_auto_rows": null,
            "grid_column": null,
            "grid_gap": null,
            "grid_row": null,
            "grid_template_areas": null,
            "grid_template_columns": null,
            "grid_template_rows": null,
            "height": null,
            "justify_content": null,
            "justify_items": null,
            "left": null,
            "margin": null,
            "max_height": null,
            "max_width": null,
            "min_height": null,
            "min_width": null,
            "object_fit": null,
            "object_position": null,
            "order": null,
            "overflow": null,
            "overflow_x": null,
            "overflow_y": null,
            "padding": null,
            "right": null,
            "top": null,
            "visibility": null,
            "width": null
          }
        },
        "5f4a9c60ceb14e829a41ecbe8b2acfd9": {
          "model_module": "@jupyter-widgets/controls",
          "model_name": "DescriptionStyleModel",
          "model_module_version": "1.5.0",
          "state": {
            "_model_module": "@jupyter-widgets/controls",
            "_model_module_version": "1.5.0",
            "_model_name": "DescriptionStyleModel",
            "_view_count": null,
            "_view_module": "@jupyter-widgets/base",
            "_view_module_version": "1.2.0",
            "_view_name": "StyleView",
            "description_width": ""
          }
        },
        "ef38ba2534964449bb3a00afdffcfdd3": {
          "model_module": "@jupyter-widgets/controls",
          "model_name": "HBoxModel",
          "model_module_version": "1.5.0",
          "state": {
            "_dom_classes": [],
            "_model_module": "@jupyter-widgets/controls",
            "_model_module_version": "1.5.0",
            "_model_name": "HBoxModel",
            "_view_count": null,
            "_view_module": "@jupyter-widgets/controls",
            "_view_module_version": "1.5.0",
            "_view_name": "HBoxView",
            "box_style": "",
            "children": [
              "IPY_MODEL_78a92c0ede6f43838c76d3f1a2f4e158",
              "IPY_MODEL_e95d6813e3ec49e2a944f2c6984b0534",
              "IPY_MODEL_8a60408dffa14920a24540ca77aa0c89"
            ],
            "layout": "IPY_MODEL_dd31174dbcdf48b0943009e611ea2191"
          }
        },
        "78a92c0ede6f43838c76d3f1a2f4e158": {
          "model_module": "@jupyter-widgets/controls",
          "model_name": "HTMLModel",
          "model_module_version": "1.5.0",
          "state": {
            "_dom_classes": [],
            "_model_module": "@jupyter-widgets/controls",
            "_model_module_version": "1.5.0",
            "_model_name": "HTMLModel",
            "_view_count": null,
            "_view_module": "@jupyter-widgets/controls",
            "_view_module_version": "1.5.0",
            "_view_name": "HTMLView",
            "description": "",
            "description_tooltip": null,
            "layout": "IPY_MODEL_9fa366bb0b7947de86cfd82d85b8c613",
            "placeholder": "​",
            "style": "IPY_MODEL_997b6f4a3154423eaaac101ef38b0982",
            "value": "100%"
          }
        },
        "e95d6813e3ec49e2a944f2c6984b0534": {
          "model_module": "@jupyter-widgets/controls",
          "model_name": "FloatProgressModel",
          "model_module_version": "1.5.0",
          "state": {
            "_dom_classes": [],
            "_model_module": "@jupyter-widgets/controls",
            "_model_module_version": "1.5.0",
            "_model_name": "FloatProgressModel",
            "_view_count": null,
            "_view_module": "@jupyter-widgets/controls",
            "_view_module_version": "1.5.0",
            "_view_name": "ProgressView",
            "bar_style": "success",
            "description": "",
            "description_tooltip": null,
            "layout": "IPY_MODEL_001c79437e64471caa4cded763b7ae55",
            "max": 977350468,
            "min": 0,
            "orientation": "horizontal",
            "style": "IPY_MODEL_383c5c8704924717b2e61e7ea8b35975",
            "value": 977350468
          }
        },
        "8a60408dffa14920a24540ca77aa0c89": {
          "model_module": "@jupyter-widgets/controls",
          "model_name": "HTMLModel",
          "model_module_version": "1.5.0",
          "state": {
            "_dom_classes": [],
            "_model_module": "@jupyter-widgets/controls",
            "_model_module_version": "1.5.0",
            "_model_name": "HTMLModel",
            "_view_count": null,
            "_view_module": "@jupyter-widgets/controls",
            "_view_module_version": "1.5.0",
            "_view_name": "HTMLView",
            "description": "",
            "description_tooltip": null,
            "layout": "IPY_MODEL_7b2a293290954f4ab04c4abc6f5e401b",
            "placeholder": "​",
            "style": "IPY_MODEL_07605a4d5a584229bac9e66a9ad554d8",
            "value": " 977350468/977350468 [00:09&lt;00:00, 105291752.82it/s]"
          }
        },
        "dd31174dbcdf48b0943009e611ea2191": {
          "model_module": "@jupyter-widgets/base",
          "model_name": "LayoutModel",
          "model_module_version": "1.2.0",
          "state": {
            "_model_module": "@jupyter-widgets/base",
            "_model_module_version": "1.2.0",
            "_model_name": "LayoutModel",
            "_view_count": null,
            "_view_module": "@jupyter-widgets/base",
            "_view_module_version": "1.2.0",
            "_view_name": "LayoutView",
            "align_content": null,
            "align_items": null,
            "align_self": null,
            "border": null,
            "bottom": null,
            "display": null,
            "flex": null,
            "flex_flow": null,
            "grid_area": null,
            "grid_auto_columns": null,
            "grid_auto_flow": null,
            "grid_auto_rows": null,
            "grid_column": null,
            "grid_gap": null,
            "grid_row": null,
            "grid_template_areas": null,
            "grid_template_columns": null,
            "grid_template_rows": null,
            "height": null,
            "justify_content": null,
            "justify_items": null,
            "left": null,
            "margin": null,
            "max_height": null,
            "max_width": null,
            "min_height": null,
            "min_width": null,
            "object_fit": null,
            "object_position": null,
            "order": null,
            "overflow": null,
            "overflow_x": null,
            "overflow_y": null,
            "padding": null,
            "right": null,
            "top": null,
            "visibility": null,
            "width": null
          }
        },
        "9fa366bb0b7947de86cfd82d85b8c613": {
          "model_module": "@jupyter-widgets/base",
          "model_name": "LayoutModel",
          "model_module_version": "1.2.0",
          "state": {
            "_model_module": "@jupyter-widgets/base",
            "_model_module_version": "1.2.0",
            "_model_name": "LayoutModel",
            "_view_count": null,
            "_view_module": "@jupyter-widgets/base",
            "_view_module_version": "1.2.0",
            "_view_name": "LayoutView",
            "align_content": null,
            "align_items": null,
            "align_self": null,
            "border": null,
            "bottom": null,
            "display": null,
            "flex": null,
            "flex_flow": null,
            "grid_area": null,
            "grid_auto_columns": null,
            "grid_auto_flow": null,
            "grid_auto_rows": null,
            "grid_column": null,
            "grid_gap": null,
            "grid_row": null,
            "grid_template_areas": null,
            "grid_template_columns": null,
            "grid_template_rows": null,
            "height": null,
            "justify_content": null,
            "justify_items": null,
            "left": null,
            "margin": null,
            "max_height": null,
            "max_width": null,
            "min_height": null,
            "min_width": null,
            "object_fit": null,
            "object_position": null,
            "order": null,
            "overflow": null,
            "overflow_x": null,
            "overflow_y": null,
            "padding": null,
            "right": null,
            "top": null,
            "visibility": null,
            "width": null
          }
        },
        "997b6f4a3154423eaaac101ef38b0982": {
          "model_module": "@jupyter-widgets/controls",
          "model_name": "DescriptionStyleModel",
          "model_module_version": "1.5.0",
          "state": {
            "_model_module": "@jupyter-widgets/controls",
            "_model_module_version": "1.5.0",
            "_model_name": "DescriptionStyleModel",
            "_view_count": null,
            "_view_module": "@jupyter-widgets/base",
            "_view_module_version": "1.2.0",
            "_view_name": "StyleView",
            "description_width": ""
          }
        },
        "001c79437e64471caa4cded763b7ae55": {
          "model_module": "@jupyter-widgets/base",
          "model_name": "LayoutModel",
          "model_module_version": "1.2.0",
          "state": {
            "_model_module": "@jupyter-widgets/base",
            "_model_module_version": "1.2.0",
            "_model_name": "LayoutModel",
            "_view_count": null,
            "_view_module": "@jupyter-widgets/base",
            "_view_module_version": "1.2.0",
            "_view_name": "LayoutView",
            "align_content": null,
            "align_items": null,
            "align_self": null,
            "border": null,
            "bottom": null,
            "display": null,
            "flex": null,
            "flex_flow": null,
            "grid_area": null,
            "grid_auto_columns": null,
            "grid_auto_flow": null,
            "grid_auto_rows": null,
            "grid_column": null,
            "grid_gap": null,
            "grid_row": null,
            "grid_template_areas": null,
            "grid_template_columns": null,
            "grid_template_rows": null,
            "height": null,
            "justify_content": null,
            "justify_items": null,
            "left": null,
            "margin": null,
            "max_height": null,
            "max_width": null,
            "min_height": null,
            "min_width": null,
            "object_fit": null,
            "object_position": null,
            "order": null,
            "overflow": null,
            "overflow_x": null,
            "overflow_y": null,
            "padding": null,
            "right": null,
            "top": null,
            "visibility": null,
            "width": null
          }
        },
        "383c5c8704924717b2e61e7ea8b35975": {
          "model_module": "@jupyter-widgets/controls",
          "model_name": "ProgressStyleModel",
          "model_module_version": "1.5.0",
          "state": {
            "_model_module": "@jupyter-widgets/controls",
            "_model_module_version": "1.5.0",
            "_model_name": "ProgressStyleModel",
            "_view_count": null,
            "_view_module": "@jupyter-widgets/base",
            "_view_module_version": "1.2.0",
            "_view_name": "StyleView",
            "bar_color": null,
            "description_width": ""
          }
        },
        "7b2a293290954f4ab04c4abc6f5e401b": {
          "model_module": "@jupyter-widgets/base",
          "model_name": "LayoutModel",
          "model_module_version": "1.2.0",
          "state": {
            "_model_module": "@jupyter-widgets/base",
            "_model_module_version": "1.2.0",
            "_model_name": "LayoutModel",
            "_view_count": null,
            "_view_module": "@jupyter-widgets/base",
            "_view_module_version": "1.2.0",
            "_view_name": "LayoutView",
            "align_content": null,
            "align_items": null,
            "align_self": null,
            "border": null,
            "bottom": null,
            "display": null,
            "flex": null,
            "flex_flow": null,
            "grid_area": null,
            "grid_auto_columns": null,
            "grid_auto_flow": null,
            "grid_auto_rows": null,
            "grid_column": null,
            "grid_gap": null,
            "grid_row": null,
            "grid_template_areas": null,
            "grid_template_columns": null,
            "grid_template_rows": null,
            "height": null,
            "justify_content": null,
            "justify_items": null,
            "left": null,
            "margin": null,
            "max_height": null,
            "max_width": null,
            "min_height": null,
            "min_width": null,
            "object_fit": null,
            "object_position": null,
            "order": null,
            "overflow": null,
            "overflow_x": null,
            "overflow_y": null,
            "padding": null,
            "right": null,
            "top": null,
            "visibility": null,
            "width": null
          }
        },
        "07605a4d5a584229bac9e66a9ad554d8": {
          "model_module": "@jupyter-widgets/controls",
          "model_name": "DescriptionStyleModel",
          "model_module_version": "1.5.0",
          "state": {
            "_model_module": "@jupyter-widgets/controls",
            "_model_module_version": "1.5.0",
            "_model_name": "DescriptionStyleModel",
            "_view_count": null,
            "_view_module": "@jupyter-widgets/base",
            "_view_module_version": "1.2.0",
            "_view_name": "StyleView",
            "description_width": ""
          }
        },
        "7b99316e6a22459999631caf9d477cdd": {
          "model_module": "@jupyter-widgets/controls",
          "model_name": "HBoxModel",
          "model_module_version": "1.5.0",
          "state": {
            "_dom_classes": [],
            "_model_module": "@jupyter-widgets/controls",
            "_model_module_version": "1.5.0",
            "_model_name": "HBoxModel",
            "_view_count": null,
            "_view_module": "@jupyter-widgets/controls",
            "_view_module_version": "1.5.0",
            "_view_name": "HBoxView",
            "box_style": "",
            "children": [
              "IPY_MODEL_29fa23cb9c0e4b32b0453e9a29bc3062",
              "IPY_MODEL_90c828bf74b24d21a6d0e46508334cc2",
              "IPY_MODEL_aa08af39b47c43b7a9a5441efcb274ad"
            ],
            "layout": "IPY_MODEL_1d9c6fe5e05540ed9a8f6155e32a16f7"
          }
        },
        "29fa23cb9c0e4b32b0453e9a29bc3062": {
          "model_module": "@jupyter-widgets/controls",
          "model_name": "HTMLModel",
          "model_module_version": "1.5.0",
          "state": {
            "_dom_classes": [],
            "_model_module": "@jupyter-widgets/controls",
            "_model_module_version": "1.5.0",
            "_model_name": "HTMLModel",
            "_view_count": null,
            "_view_module": "@jupyter-widgets/controls",
            "_view_module_version": "1.5.0",
            "_view_name": "HTMLView",
            "description": "",
            "description_tooltip": null,
            "layout": "IPY_MODEL_2d150fdc92b042e8b16aaaf1ed3bffaa",
            "placeholder": "​",
            "style": "IPY_MODEL_9fcffa09df97485d85a468b391377d4a",
            "value": "100%"
          }
        },
        "90c828bf74b24d21a6d0e46508334cc2": {
          "model_module": "@jupyter-widgets/controls",
          "model_name": "FloatProgressModel",
          "model_module_version": "1.5.0",
          "state": {
            "_dom_classes": [],
            "_model_module": "@jupyter-widgets/controls",
            "_model_module_version": "1.5.0",
            "_model_name": "FloatProgressModel",
            "_view_count": null,
            "_view_module": "@jupyter-widgets/controls",
            "_view_module_version": "1.5.0",
            "_view_name": "ProgressView",
            "bar_style": "success",
            "description": "",
            "description_tooltip": null,
            "layout": "IPY_MODEL_cab6369817dd465e9a883429b631260c",
            "max": 185758,
            "min": 0,
            "orientation": "horizontal",
            "style": "IPY_MODEL_8d0173bc1a284217a484253dc36b1c68",
            "value": 185758
          }
        },
        "aa08af39b47c43b7a9a5441efcb274ad": {
          "model_module": "@jupyter-widgets/controls",
          "model_name": "HTMLModel",
          "model_module_version": "1.5.0",
          "state": {
            "_dom_classes": [],
            "_model_module": "@jupyter-widgets/controls",
            "_model_module_version": "1.5.0",
            "_model_name": "HTMLModel",
            "_view_count": null,
            "_view_module": "@jupyter-widgets/controls",
            "_view_module_version": "1.5.0",
            "_view_name": "HTMLView",
            "description": "",
            "description_tooltip": null,
            "layout": "IPY_MODEL_8c113cf8b4924181a14f357d6e3b9918",
            "placeholder": "​",
            "style": "IPY_MODEL_1b5e1148367c492185965684964ffd1b",
            "value": " 185758/185758 [00:00&lt;00:00, 1234532.44it/s]"
          }
        },
        "1d9c6fe5e05540ed9a8f6155e32a16f7": {
          "model_module": "@jupyter-widgets/base",
          "model_name": "LayoutModel",
          "model_module_version": "1.2.0",
          "state": {
            "_model_module": "@jupyter-widgets/base",
            "_model_module_version": "1.2.0",
            "_model_name": "LayoutModel",
            "_view_count": null,
            "_view_module": "@jupyter-widgets/base",
            "_view_module_version": "1.2.0",
            "_view_name": "LayoutView",
            "align_content": null,
            "align_items": null,
            "align_self": null,
            "border": null,
            "bottom": null,
            "display": null,
            "flex": null,
            "flex_flow": null,
            "grid_area": null,
            "grid_auto_columns": null,
            "grid_auto_flow": null,
            "grid_auto_rows": null,
            "grid_column": null,
            "grid_gap": null,
            "grid_row": null,
            "grid_template_areas": null,
            "grid_template_columns": null,
            "grid_template_rows": null,
            "height": null,
            "justify_content": null,
            "justify_items": null,
            "left": null,
            "margin": null,
            "max_height": null,
            "max_width": null,
            "min_height": null,
            "min_width": null,
            "object_fit": null,
            "object_position": null,
            "order": null,
            "overflow": null,
            "overflow_x": null,
            "overflow_y": null,
            "padding": null,
            "right": null,
            "top": null,
            "visibility": null,
            "width": null
          }
        },
        "2d150fdc92b042e8b16aaaf1ed3bffaa": {
          "model_module": "@jupyter-widgets/base",
          "model_name": "LayoutModel",
          "model_module_version": "1.2.0",
          "state": {
            "_model_module": "@jupyter-widgets/base",
            "_model_module_version": "1.2.0",
            "_model_name": "LayoutModel",
            "_view_count": null,
            "_view_module": "@jupyter-widgets/base",
            "_view_module_version": "1.2.0",
            "_view_name": "LayoutView",
            "align_content": null,
            "align_items": null,
            "align_self": null,
            "border": null,
            "bottom": null,
            "display": null,
            "flex": null,
            "flex_flow": null,
            "grid_area": null,
            "grid_auto_columns": null,
            "grid_auto_flow": null,
            "grid_auto_rows": null,
            "grid_column": null,
            "grid_gap": null,
            "grid_row": null,
            "grid_template_areas": null,
            "grid_template_columns": null,
            "grid_template_rows": null,
            "height": null,
            "justify_content": null,
            "justify_items": null,
            "left": null,
            "margin": null,
            "max_height": null,
            "max_width": null,
            "min_height": null,
            "min_width": null,
            "object_fit": null,
            "object_position": null,
            "order": null,
            "overflow": null,
            "overflow_x": null,
            "overflow_y": null,
            "padding": null,
            "right": null,
            "top": null,
            "visibility": null,
            "width": null
          }
        },
        "9fcffa09df97485d85a468b391377d4a": {
          "model_module": "@jupyter-widgets/controls",
          "model_name": "DescriptionStyleModel",
          "model_module_version": "1.5.0",
          "state": {
            "_model_module": "@jupyter-widgets/controls",
            "_model_module_version": "1.5.0",
            "_model_name": "DescriptionStyleModel",
            "_view_count": null,
            "_view_module": "@jupyter-widgets/base",
            "_view_module_version": "1.2.0",
            "_view_name": "StyleView",
            "description_width": ""
          }
        },
        "cab6369817dd465e9a883429b631260c": {
          "model_module": "@jupyter-widgets/base",
          "model_name": "LayoutModel",
          "model_module_version": "1.2.0",
          "state": {
            "_model_module": "@jupyter-widgets/base",
            "_model_module_version": "1.2.0",
            "_model_name": "LayoutModel",
            "_view_count": null,
            "_view_module": "@jupyter-widgets/base",
            "_view_module_version": "1.2.0",
            "_view_name": "LayoutView",
            "align_content": null,
            "align_items": null,
            "align_self": null,
            "border": null,
            "bottom": null,
            "display": null,
            "flex": null,
            "flex_flow": null,
            "grid_area": null,
            "grid_auto_columns": null,
            "grid_auto_flow": null,
            "grid_auto_rows": null,
            "grid_column": null,
            "grid_gap": null,
            "grid_row": null,
            "grid_template_areas": null,
            "grid_template_columns": null,
            "grid_template_rows": null,
            "height": null,
            "justify_content": null,
            "justify_items": null,
            "left": null,
            "margin": null,
            "max_height": null,
            "max_width": null,
            "min_height": null,
            "min_width": null,
            "object_fit": null,
            "object_position": null,
            "order": null,
            "overflow": null,
            "overflow_x": null,
            "overflow_y": null,
            "padding": null,
            "right": null,
            "top": null,
            "visibility": null,
            "width": null
          }
        },
        "8d0173bc1a284217a484253dc36b1c68": {
          "model_module": "@jupyter-widgets/controls",
          "model_name": "ProgressStyleModel",
          "model_module_version": "1.5.0",
          "state": {
            "_model_module": "@jupyter-widgets/controls",
            "_model_module_version": "1.5.0",
            "_model_name": "ProgressStyleModel",
            "_view_count": null,
            "_view_module": "@jupyter-widgets/base",
            "_view_module_version": "1.2.0",
            "_view_name": "StyleView",
            "bar_color": null,
            "description_width": ""
          }
        },
        "8c113cf8b4924181a14f357d6e3b9918": {
          "model_module": "@jupyter-widgets/base",
          "model_name": "LayoutModel",
          "model_module_version": "1.2.0",
          "state": {
            "_model_module": "@jupyter-widgets/base",
            "_model_module_version": "1.2.0",
            "_model_name": "LayoutModel",
            "_view_count": null,
            "_view_module": "@jupyter-widgets/base",
            "_view_module_version": "1.2.0",
            "_view_name": "LayoutView",
            "align_content": null,
            "align_items": null,
            "align_self": null,
            "border": null,
            "bottom": null,
            "display": null,
            "flex": null,
            "flex_flow": null,
            "grid_area": null,
            "grid_auto_columns": null,
            "grid_auto_flow": null,
            "grid_auto_rows": null,
            "grid_column": null,
            "grid_gap": null,
            "grid_row": null,
            "grid_template_areas": null,
            "grid_template_columns": null,
            "grid_template_rows": null,
            "height": null,
            "justify_content": null,
            "justify_items": null,
            "left": null,
            "margin": null,
            "max_height": null,
            "max_width": null,
            "min_height": null,
            "min_width": null,
            "object_fit": null,
            "object_position": null,
            "order": null,
            "overflow": null,
            "overflow_x": null,
            "overflow_y": null,
            "padding": null,
            "right": null,
            "top": null,
            "visibility": null,
            "width": null
          }
        },
        "1b5e1148367c492185965684964ffd1b": {
          "model_module": "@jupyter-widgets/controls",
          "model_name": "DescriptionStyleModel",
          "model_module_version": "1.5.0",
          "state": {
            "_model_module": "@jupyter-widgets/controls",
            "_model_module_version": "1.5.0",
            "_model_name": "DescriptionStyleModel",
            "_view_count": null,
            "_view_module": "@jupyter-widgets/base",
            "_view_module_version": "1.2.0",
            "_view_name": "StyleView",
            "description_width": ""
          }
        }
      }
    }
  },
  "nbformat": 4,
  "nbformat_minor": 0
}